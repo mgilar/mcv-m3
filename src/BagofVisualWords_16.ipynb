{
 "cells": [
  {
   "cell_type": "code",
   "execution_count": null,
   "metadata": {
    "colab": {},
    "colab_type": "code",
    "id": "ixNkYDl8HMB8"
   },
   "outputs": [],
   "source": [
    "import cv2\n",
    "import numpy as np\n",
    "import pickle\n",
    "from sklearn.cluster import MiniBatchKMeans\n",
    "from sklearn.neighbors import KNeighborsClassifier, DistanceMetric\n",
    "from sklearn.metrics import confusion_matrix\n",
    "import matplotlib.pyplot as plt\n",
    "import random\n",
    "from tqdm import tqdm_notebook as tqdm\n",
    "import time\n",
    "from IPython.display import Markdown, display\n",
    "def printmd(string):\n",
    "    display(Markdown(string))\n",
    "from nltk.cluster.kmeans import KMeansClusterer\n",
    "import nltk\n",
    "\n",
    "from IPython.display import clear_output"
   ]
  },
  {
   "cell_type": "markdown",
   "metadata": {
    "colab_type": "text",
    "id": "_sIre2emHMCN"
   },
   "source": [
    "Main parameters of the code"
   ]
  },
  {
   "cell_type": "code",
   "execution_count": 17,
   "metadata": {
    "colab": {},
    "colab_type": "code",
    "id": "85Wr7_9UHMCP"
   },
   "outputs": [],
   "source": [
    "n_descriptors = 600\n",
    "codebook_size = 128\n",
    "n_neighbors = 6\n",
    "# Now all knn_metrics are computed at the end of the notebook\n",
    "# knn_metric = 'minkowski' # euclidean, manhattan, chebyshev, minkowski, bhatt\n",
    "# More knn_metrics can be found at: https://scikit-learn.org/stable/modules/generated/sklearn.neighbors.DistanceMetric.html\n",
    "\n",
    "descriptor_type = 'sift' # sift, surf\n",
    "dense_descriptors = True\n",
    "rootSift = True\n",
    "scale_mode = \"gauss\" # random, uniform, gauss\n",
    "\n",
    "#SURF Params\n",
    "minHessian = 100\n",
    "\n",
    "#SIFT Params\n",
    "maxScale = 15\n",
    "minScale = 7\n",
    "#if sift version is dense\n",
    "stepValue = 10\n",
    "mean = 15\n",
    "desvt= 7\n",
    "\n",
    "# root sift options\n",
    "eps = 1e-7\n",
    "\n",
    "# KMeans Clusterer Options\n",
    "used_kmeans = \"mini_batch\" # mini_batch, nlkt\n",
    "distance_kmeans = \"corr\" # Only for nlkt\n",
    "\n",
    "\n",
    "start = time.clock()"
   ]
  },
  {
   "cell_type": "markdown",
   "metadata": {
    "colab_type": "text",
    "id": "Th96bMxtHMCY"
   },
   "source": [
    "### Definitions & Implementations"
   ]
  },
  {
   "cell_type": "code",
   "execution_count": 18,
   "metadata": {
    "colab": {},
    "colab_type": "code",
    "id": "GNmrUj7EHMCc"
   },
   "outputs": [],
   "source": [
    "cv2distances = {\"corr\":cv2.HISTCMP_CORREL,\n",
    "                \"chi\":cv2.HISTCMP_CHISQR_ALT,\n",
    "                \"inter\":cv2.HISTCMP_INTERSECT,\n",
    "                \"bhatt\":cv2.HISTCMP_BHATTACHARYYA,\n",
    "                \"chialt\":cv2.HISTCMP_CHISQR_ALT,\n",
    "                \"kl_div\": cv2.HISTCMP_KL_DIV\n",
    "               }\n",
    "dist_name_list = [\"euclidean\", \"manhattan\", \"chebyshev\", \"minkowski\",\"hamming\",\"canberra\",\"braycurtis\"] + list(cv2distances.keys())\n",
    "\n",
    "def dense_keypoints(img,step, scaleMin, scaleMax):\n",
    "    keypoints = []\n",
    "    heigh, width = img.shape\n",
    "    for i in range( 0, heigh, step):\n",
    "        for j in range( 0, width, step):\n",
    "            if(scale_mode==\"random\"):\n",
    "                scale = np.random.rand()\n",
    "            elif(scale_mode == \"uniform\"):\n",
    "                scale = random.uniform(scaleMin,scaleMax) #maybe another type of randomness? \n",
    "            elif(scale_mode==\"gauss\"):\n",
    "                scale = abs(random.gauss(mean,desvt))\n",
    "            else:\n",
    "                raise(ValueError(\"scale mode undefined\"))\n",
    "\n",
    "            keypoints.append( cv2.KeyPoint(j,i, scale))\n",
    "    return keypoints\n",
    "\n",
    "def get_keypoints(im):\n",
    "    if(dense_descriptors):\n",
    "        kpt = dense_keypoints(im, stepValue, maxScale, minScale)\n",
    "    else:\n",
    "        if(descriptor_type=='sift'):\n",
    "            kpt = detectorObject.detect(im)\n",
    "        elif(descriptor_type==\"surf\"):\n",
    "            kpt = detectorObject.detect(im)\n",
    "        else:\n",
    "             raise(NotImplemented(\"detector_type not implemented or not recognized:\"+str(descriptor_type)))\n",
    "    return kpt\n",
    "            \n",
    "def get_descriptors(im, kpt):\n",
    "    if(descriptor_type=='sift'):\n",
    "        kpt,des = detectorObject.compute(im,kpt)\n",
    "        if(rootSift):\n",
    "            des /= (des.sum(axis=1, keepdims=True) + eps)\n",
    "            des = np.sqrt(des) \n",
    "    elif(descriptor_type==\"surf\"):\n",
    "        kpt,des = detectorObject.compute(im,kpt)\n",
    "    return kpt, des\n",
    "    \n",
    "def get_dist_func(name, force_function=False):\n",
    "    if name in cv2distances.keys():\n",
    "        def func(x1,x2):\n",
    "            print(\"X1:\", x1.shape, type(x1))\n",
    "            print(\"X2:\", x1.shape, type(x2))\n",
    "            dist = cv2.compareHist(x1, x2, cv2distances[name])\n",
    "            print(dist)\n",
    "            return dist\n",
    "        KNN_METRIC = func\n",
    "        \n",
    "        #KNN_METRIC = lambda x1, x2: cv2.compareHist(x1, x2, cv2distances[name])\n",
    "    elif not force_function:\n",
    "        KNN_METRIC = name\n",
    "    else:\n",
    "        dist = DistanceMetric.get_metric(name)\n",
    "        distlambda = lambda x, y : dist.pairwise((x,y))\n",
    "        KNN_METRIC = distlambda\n",
    "        \n",
    "    return KNN_METRIC\n",
    "    \n",
    "def get_descriptors_dataset(filenames):\n",
    "    descriptors = []\n",
    "    #Train_label_per_descriptor = []\n",
    "    \n",
    "    visual_words=np.zeros((len(filenames),codebook_size),dtype=np.float32)\n",
    "    for i in tqdm(range(len(filenames)),desc=\"Calc Desc:\"):\n",
    "    #for filename,labels in zip(tqdm(train_images_filenames,desc=\"Progress\"),train_labels):\n",
    "        ima=cv2.imread(filenames[i])\n",
    "        gray=cv2.cvtColor(ima,cv2.COLOR_BGR2GRAY)\n",
    "        kpt = get_keypoints(gray)\n",
    "        kpt, des = get_descriptors(gray, kpt)\n",
    "        descriptors.append(des)\n",
    "        #Train_label_per_descriptor.append(labels[i])\n",
    "    D=np.vstack(descriptors)\n",
    "    return D, descriptors\n",
    "\n",
    "def get_bag_of_words(desc_list):\n",
    "    # And, for eacohh train image, we project each keypoint descriptor to its closest visual word. \n",
    "    # We represent each of the images with the frequency of each visual word.\n",
    "    vw_array=np.zeros((len(desc_list),codebook_size),dtype=np.float32)\n",
    "    for i in tqdm(range(len(desc_list)), desc=\"Calc  BoW:\"):\n",
    "        words=codebook.predict(desc_list[i])\n",
    "        vw_array[i,:]=np.bincount(words,minlength=codebook_size)\n",
    "    return vw_array"
   ]
  },
  {
   "cell_type": "markdown",
   "metadata": {},
   "source": [
    "### Extra functions"
   ]
  },
  {
   "cell_type": "code",
   "execution_count": 19,
   "metadata": {},
   "outputs": [],
   "source": [
    "conf_mat_list = []\n",
    "\n",
    "def print_res(names, accuracies, times):\n",
    "    \"\"\"\n",
    "    Function used when showing results \n",
    "    \"\"\"\n",
    "    def get_ristra_string(l, find_highest=False):\n",
    "        string = \"\"\n",
    "        for v in l:\n",
    "            if(isinstance(v, float)):\n",
    "                substring = \"{0:.2f}\".format(v)[:4]\n",
    "                if(find_highest and v == max([x for x in l if isinstance(x, float)])):\n",
    "                    substring = substring+\"*\"      \n",
    "            else:\n",
    "                substring=v[:4]\n",
    "            string+=substring+\"\\t\"\n",
    "        return string+\"\\n\"\n",
    "    s  = \"     \\t\"+get_ristra_string(names)\n",
    "    s += \" Acc:\\t\"+get_ristra_string(accuracies, True)\n",
    "    s += \"Time:\\t\"+get_ristra_string(times, False)\n",
    "    clear_output()\n",
    "    print(s)"
   ]
  },
  {
   "cell_type": "markdown",
   "metadata": {
    "colab_type": "text",
    "id": "6duF6HY0HMCl"
   },
   "source": [
    "Let us first read the train and test files\n"
   ]
  },
  {
   "cell_type": "code",
   "execution_count": 6,
   "metadata": {
    "colab": {},
    "colab_type": "code",
    "id": "zSUdd5cHHMCn"
   },
   "outputs": [],
   "source": [
    "train_images_filenames = pickle.load(open('./train_images_filenames.dat','rb'))\n",
    "test_images_filenames = pickle.load(open('./test_images_filenames.dat','rb'))\n",
    "train_labels = pickle.load(open('./train_labels.dat','rb'))\n",
    "test_labels = pickle.load(open('./test_labels.dat','rb'))\n"
   ]
  },
  {
   "cell_type": "markdown",
   "metadata": {
    "colab_type": "text",
    "id": "h_7P269jHMCv"
   },
   "source": [
    "We create a SIFT object detector and descriptor\n"
   ]
  },
  {
   "cell_type": "code",
   "execution_count": 22,
   "metadata": {
    "colab": {},
    "colab_type": "code",
    "id": "KGsjxVz_HMCx"
   },
   "outputs": [],
   "source": [
    "if(descriptor_type=='sift'):\n",
    "    detectorObject = cv2.xfeatures2d.SIFT_create(nfeatures=n_descriptors)\n",
    "elif(descriptor_type==\"surf\"):\n",
    "    detectorObject = cv2.xfeatures2d.SURF_create()\n",
    "else:\n",
    "    raise(NotImplemented(\"detector_type not implemented or not recognized:\"+str(descriptor_type)))\n",
    "\n",
    "#dense_detector = cv2.FeatureDetector_create(\"Dense\")"
   ]
  },
  {
   "cell_type": "markdown",
   "metadata": {
    "colab_type": "text",
    "id": "1gPtqHsGHMC5"
   },
   "source": [
    "### TRAIN DESCRIPTORS CALCULATION"
   ]
  },
  {
   "cell_type": "code",
   "execution_count": 24,
   "metadata": {
    "colab": {
     "base_uri": "https://localhost:8080/",
     "height": 401.0
    },
    "colab_type": "code",
    "id": "nk0IuLtkHMDC",
    "outputId": "84a2fcc3-5653-422d-95c8-0ac0727b6424",
    "scrolled": true
   },
   "outputs": [
    {
     "data": {
      "text/plain": [
       "HBox(children=(IntProgress(value=0, description='Calc Desc:', max=1881, style=ProgressStyle(description_width=…"
      ]
     },
     "metadata": {},
     "output_type": "display_data"
    },
    {
     "name": "stdout",
     "output_type": "stream",
     "text": [
      "\n"
     ]
    },
    {
     "ename": "error",
     "evalue": "OpenCV(3.4.2) C:\\projects\\opencv-python\\opencv\\modules\\imgproc\\src\\resize.cpp:4044: error: (-215:Assertion failed) !ssize.empty() in function 'cv::resize'\n",
     "traceback": [
      "\u001b[1;31m---------------------------------------------------------------------------\u001b[0m",
      "\u001b[1;31merror\u001b[0m                                     Traceback (most recent call last)",
      "\u001b[1;32m<ipython-input-24-8f49b2b3711f>\u001b[0m in \u001b[0;36m<module>\u001b[1;34m\u001b[0m\n\u001b[0;32m      1\u001b[0m \u001b[1;31m# We compute the SIFT descriptors for all the train images and subsequently\u001b[0m\u001b[1;33m\u001b[0m\u001b[1;33m\u001b[0m\u001b[1;33m\u001b[0m\u001b[0m\n\u001b[0;32m      2\u001b[0m \u001b[1;31m# build a numpy array with all the descriptors stacked together\u001b[0m\u001b[1;33m\u001b[0m\u001b[1;33m\u001b[0m\u001b[1;33m\u001b[0m\u001b[0m\n\u001b[1;32m----> 3\u001b[1;33m \u001b[0mD\u001b[0m\u001b[1;33m,\u001b[0m \u001b[0mdlist\u001b[0m \u001b[1;33m=\u001b[0m \u001b[0mget_descriptors_dataset\u001b[0m\u001b[1;33m(\u001b[0m\u001b[0mtrain_images_filenames\u001b[0m\u001b[1;33m)\u001b[0m\u001b[1;33m\u001b[0m\u001b[1;33m\u001b[0m\u001b[0m\n\u001b[0m",
      "\u001b[1;32m<ipython-input-18-fcfa2865ced8>\u001b[0m in \u001b[0;36mget_descriptors_dataset\u001b[1;34m(filenames)\u001b[0m\n\u001b[0;32m     77\u001b[0m         \u001b[0mgray\u001b[0m\u001b[1;33m=\u001b[0m\u001b[0mcv2\u001b[0m\u001b[1;33m.\u001b[0m\u001b[0mcvtColor\u001b[0m\u001b[1;33m(\u001b[0m\u001b[0mima\u001b[0m\u001b[1;33m,\u001b[0m\u001b[0mcv2\u001b[0m\u001b[1;33m.\u001b[0m\u001b[0mCOLOR_BGR2GRAY\u001b[0m\u001b[1;33m)\u001b[0m\u001b[1;33m\u001b[0m\u001b[1;33m\u001b[0m\u001b[0m\n\u001b[0;32m     78\u001b[0m         \u001b[0mkpt\u001b[0m \u001b[1;33m=\u001b[0m \u001b[0mget_keypoints\u001b[0m\u001b[1;33m(\u001b[0m\u001b[0mgray\u001b[0m\u001b[1;33m)\u001b[0m\u001b[1;33m\u001b[0m\u001b[1;33m\u001b[0m\u001b[0m\n\u001b[1;32m---> 79\u001b[1;33m         \u001b[0mkpt\u001b[0m\u001b[1;33m,\u001b[0m \u001b[0mdes\u001b[0m \u001b[1;33m=\u001b[0m \u001b[0mget_descriptors\u001b[0m\u001b[1;33m(\u001b[0m\u001b[0mgray\u001b[0m\u001b[1;33m,\u001b[0m \u001b[0mkpt\u001b[0m\u001b[1;33m)\u001b[0m\u001b[1;33m\u001b[0m\u001b[1;33m\u001b[0m\u001b[0m\n\u001b[0m\u001b[0;32m     80\u001b[0m         \u001b[0mdescriptors\u001b[0m\u001b[1;33m.\u001b[0m\u001b[0mappend\u001b[0m\u001b[1;33m(\u001b[0m\u001b[0mdes\u001b[0m\u001b[1;33m)\u001b[0m\u001b[1;33m\u001b[0m\u001b[1;33m\u001b[0m\u001b[0m\n\u001b[0;32m     81\u001b[0m         \u001b[1;31m#Train_label_per_descriptor.append(labels[i])\u001b[0m\u001b[1;33m\u001b[0m\u001b[1;33m\u001b[0m\u001b[1;33m\u001b[0m\u001b[0m\n",
      "\u001b[1;32m<ipython-input-18-fcfa2865ced8>\u001b[0m in \u001b[0;36mget_descriptors\u001b[1;34m(im, kpt)\u001b[0m\n\u001b[0;32m     44\u001b[0m             \u001b[0mdes\u001b[0m \u001b[1;33m=\u001b[0m \u001b[0mnp\u001b[0m\u001b[1;33m.\u001b[0m\u001b[0msqrt\u001b[0m\u001b[1;33m(\u001b[0m\u001b[0mdes\u001b[0m\u001b[1;33m)\u001b[0m\u001b[1;33m\u001b[0m\u001b[1;33m\u001b[0m\u001b[0m\n\u001b[0;32m     45\u001b[0m     \u001b[1;32melif\u001b[0m\u001b[1;33m(\u001b[0m\u001b[0mdescriptor_type\u001b[0m\u001b[1;33m==\u001b[0m\u001b[1;34m\"surf\"\u001b[0m\u001b[1;33m)\u001b[0m\u001b[1;33m:\u001b[0m\u001b[1;33m\u001b[0m\u001b[1;33m\u001b[0m\u001b[0m\n\u001b[1;32m---> 46\u001b[1;33m         \u001b[0mkpt\u001b[0m\u001b[1;33m,\u001b[0m\u001b[0mdes\u001b[0m \u001b[1;33m=\u001b[0m \u001b[0mdetectorObject\u001b[0m\u001b[1;33m.\u001b[0m\u001b[0mcompute\u001b[0m\u001b[1;33m(\u001b[0m\u001b[0mim\u001b[0m\u001b[1;33m,\u001b[0m\u001b[0mkpt\u001b[0m\u001b[1;33m)\u001b[0m\u001b[1;33m\u001b[0m\u001b[1;33m\u001b[0m\u001b[0m\n\u001b[0m\u001b[0;32m     47\u001b[0m     \u001b[1;32mreturn\u001b[0m \u001b[0mkpt\u001b[0m\u001b[1;33m,\u001b[0m \u001b[0mdes\u001b[0m\u001b[1;33m\u001b[0m\u001b[1;33m\u001b[0m\u001b[0m\n\u001b[0;32m     48\u001b[0m \u001b[1;33m\u001b[0m\u001b[0m\n",
      "\u001b[1;31merror\u001b[0m: OpenCV(3.4.2) C:\\projects\\opencv-python\\opencv\\modules\\imgproc\\src\\resize.cpp:4044: error: (-215:Assertion failed) !ssize.empty() in function 'cv::resize'\n"
     ],
     "output_type": "error"
    }
   ],
   "source": [
    "# We compute the SIFT descriptors for all the train images and subsequently \n",
    "# build a numpy array with all the descriptors stacked together\n",
    "D, dlist = get_descriptors_dataset(train_images_filenames)"
   ]
  },
  {
   "cell_type": "markdown",
   "metadata": {},
   "source": [
    "### Creation of Descriptor Object"
   ]
  },
  {
   "cell_type": "code",
   "execution_count": null,
   "metadata": {},
   "outputs": [],
   "source": [
    "class KMeansDistances(KMeansClusterer):\n",
    "    \"\"\"\n",
    "    KMeansClusterer adaptation to use same sintax as MiniBatchKMeans\n",
    "    Implementation of KMeans that allows using distances.\n",
    "    \"\"\"\n",
    "    def __init__(self, *args, **kwargs):\n",
    "        args+=( nltk.cluster.util.cosine_distance,)\n",
    "        super().__init__( *args, **kwargs)\n",
    "    def fit(self, data):\n",
    "        return self.cluster(data, True, trace=True)\n",
    "    def predict(self, vector):\n",
    "        return self.classify_vectorspace(vector)\n",
    "    \n",
    "# We now compute a k-means clustering on the descriptor space\n",
    "reassignment_ratio=10**-4\n",
    "if(used_kmeans==\"mini_batch\"):\n",
    "    codebook = MiniBatchKMeans(n_clusters=codebook_size, verbose=False, batch_size=codebook_size * 20,compute_labels=False,reassignment_ratio=reassignment_ratio,random_state=42)\n",
    "elif(used_kmeans==\"nlkt\"):\n",
    "    DIST = get_dist_func(distance_kmeans,True)\n",
    "    #codebook = KMeansDistances(codebook_size, DIST, repeats=10)\n",
    "    codebook = KMeansDistances(codebook_size, repeats=10)\n",
    "else:\n",
    "    raise(ValueError(\"KMeans not recognized\"))\n",
    "codebook.fit(D)"
   ]
  },
  {
   "cell_type": "code",
   "execution_count": 10,
   "metadata": {},
   "outputs": [
    {
     "data": {
      "text/plain": [
       "HBox(children=(IntProgress(value=0, description='Calc  BoW:', max=1881, style=ProgressStyle(description_width=…"
      ]
     },
     "metadata": {},
     "output_type": "display_data"
    },
    {
     "name": "stdout",
     "output_type": "stream",
     "text": [
      "\n"
     ]
    }
   ],
   "source": [
    "visual_words = get_bag_of_words(dlist)"
   ]
  },
  {
   "cell_type": "markdown",
   "metadata": {
    "colab_type": "text",
    "id": "Tpi92-aMHMDQ"
   },
   "source": [
    "### K-MEANS CLUSTERING OF DESCRIPTORS\n"
   ]
  },
  {
   "cell_type": "code",
   "execution_count": 11,
   "metadata": {
    "colab": {
     "base_uri": "https://localhost:8080/"
    },
    "colab_type": "code",
    "id": "WCMZwTl1HMDT",
    "outputId": "86ee9fc3-e85a-41f6-ac58-b8b762cc678a"
   },
   "outputs": [
    {
     "data": {
      "text/plain": [
       "MiniBatchKMeans(batch_size=2560, compute_labels=False, init='k-means++',\n",
       "        init_size=None, max_iter=100, max_no_improvement=10,\n",
       "        n_clusters=128, n_init=3, random_state=42,\n",
       "        reassignment_ratio=0.0001, tol=0.0, verbose=False)"
      ]
     },
     "execution_count": 11,
     "metadata": {},
     "output_type": "execute_result"
    }
   ],
   "source": [
    "codebook.fit(D)"
   ]
  },
  {
   "cell_type": "markdown",
   "metadata": {
    "colab_type": "text",
    "id": "pwz7k4O-HMD0"
   },
   "source": [
    "### COMPUTE TEST DESCRIPTORS"
   ]
  },
  {
   "cell_type": "code",
   "execution_count": 12,
   "metadata": {
    "colab": {
     "base_uri": "https://localhost:8080/"
    },
    "colab_type": "code",
    "id": "CtfpBn7cHMD2",
    "outputId": "5055a0fb-1b90-43b4-de06-ce744de1dc93"
   },
   "outputs": [
    {
     "data": {
      "text/plain": [
       "HBox(children=(IntProgress(value=0, description='Calc Desc:', max=807, style=ProgressStyle(description_width='…"
      ]
     },
     "metadata": {},
     "output_type": "display_data"
    },
    {
     "name": "stdout",
     "output_type": "stream",
     "text": [
      "\n"
     ]
    },
    {
     "data": {
      "text/plain": [
       "HBox(children=(IntProgress(value=0, description='Calc  BoW:', max=807, style=ProgressStyle(description_width='…"
      ]
     },
     "metadata": {},
     "output_type": "display_data"
    },
    {
     "name": "stdout",
     "output_type": "stream",
     "text": [
      "\n"
     ]
    }
   ],
   "source": [
    "T, tlist = get_descriptors_dataset(test_images_filenames)\n",
    "visual_words_test = get_bag_of_words(tlist)"
   ]
  },
  {
   "cell_type": "markdown",
   "metadata": {
    "colab_type": "text",
    "id": "xdxAwrNyHMD9"
   },
   "source": [
    "### BUILD OF K-NN CLASSIFIER"
   ]
  },
  {
   "cell_type": "code",
   "execution_count": 13,
   "metadata": {
    "colab": {
     "base_uri": "https://localhost:8080/",
     "height": 3197.0
    },
    "colab_type": "code",
    "id": "UXKTAWwdHMEB",
    "outputId": "409ce1d7-bc96-4f60-e598-caa0126f0d54"
   },
   "outputs": [
    {
     "name": "stdout",
     "output_type": "stream",
     "text": [
      "     \teucl\tmanh\tcheb\tmink\thamm\tcanb\tbray\t\n",
      " Acc:\t75.5\t75.8\t68.1\t75.5\t43.1\t69.3\t76.2*\t\n",
      "Time:\t1424\t1425\t1425\t1426\t1427\t1429\t1429\t\n",
      "\n",
      "X1: (128,) <class 'numpy.ndarray'>\n",
      "X2: (128,) <class 'numpy.ndarray'>\n"
     ]
    },
    {
     "ename": "error",
     "evalue": "OpenCV(3.4.2) C:\\projects\\opencv-python\\opencv\\modules\\imgproc\\src\\histogram.cpp:1935: error: (-215:Assertion failed) H1.type() == H2.type() && H1.depth() == 5 in function 'cv::compareHist'\n",
     "traceback": [
      "\u001b[1;31m---------------------------------------------------------------------------\u001b[0m",
      "\u001b[1;31merror\u001b[0m                                     Traceback (most recent call last)",
      "\u001b[1;32m<ipython-input-13-d9e34b881ac6>\u001b[0m in \u001b[0;36m<module>\u001b[1;34m\u001b[0m\n\u001b[0;32m     10\u001b[0m     \u001b[0mKNN_METRIC\u001b[0m \u001b[1;33m=\u001b[0m \u001b[0mget_dist_func\u001b[0m\u001b[1;33m(\u001b[0m\u001b[0mknn_metric\u001b[0m\u001b[1;33m)\u001b[0m\u001b[1;33m\u001b[0m\u001b[1;33m\u001b[0m\u001b[0m\n\u001b[0;32m     11\u001b[0m     \u001b[0mknn\u001b[0m \u001b[1;33m=\u001b[0m \u001b[0mKNeighborsClassifier\u001b[0m\u001b[1;33m(\u001b[0m\u001b[0mn_neighbors\u001b[0m\u001b[1;33m=\u001b[0m\u001b[0mn_neighbors\u001b[0m\u001b[1;33m,\u001b[0m\u001b[0mn_jobs\u001b[0m\u001b[1;33m=\u001b[0m\u001b[1;33m-\u001b[0m\u001b[1;36m1\u001b[0m\u001b[1;33m,\u001b[0m\u001b[0mmetric\u001b[0m\u001b[1;33m=\u001b[0m\u001b[0mKNN_METRIC\u001b[0m\u001b[1;33m)\u001b[0m\u001b[1;33m\u001b[0m\u001b[1;33m\u001b[0m\u001b[0m\n\u001b[1;32m---> 12\u001b[1;33m     \u001b[0mknn\u001b[0m\u001b[1;33m.\u001b[0m\u001b[0mfit\u001b[0m\u001b[1;33m(\u001b[0m\u001b[0mvisual_words\u001b[0m\u001b[1;33m,\u001b[0m \u001b[0mtrain_labels\u001b[0m\u001b[1;33m)\u001b[0m\u001b[1;33m\u001b[0m\u001b[1;33m\u001b[0m\u001b[0m\n\u001b[0m\u001b[0;32m     13\u001b[0m \u001b[1;33m\u001b[0m\u001b[0m\n\u001b[0;32m     14\u001b[0m     \u001b[0maccuracy\u001b[0m \u001b[1;33m=\u001b[0m \u001b[1;36m100\u001b[0m\u001b[1;33m*\u001b[0m\u001b[0mknn\u001b[0m\u001b[1;33m.\u001b[0m\u001b[0mscore\u001b[0m\u001b[1;33m(\u001b[0m\u001b[0mvisual_words_test\u001b[0m\u001b[1;33m,\u001b[0m \u001b[0mtest_labels\u001b[0m\u001b[1;33m)\u001b[0m\u001b[1;33m\u001b[0m\u001b[1;33m\u001b[0m\u001b[0m\n",
      "\u001b[1;32mc:\\users\\maria\\lib\\site-packages\\sklearn\\neighbors\\base.py\u001b[0m in \u001b[0;36mfit\u001b[1;34m(self, X, y)\u001b[0m\n\u001b[0;32m    914\u001b[0m             \u001b[0mself\u001b[0m\u001b[1;33m.\u001b[0m\u001b[0m_y\u001b[0m \u001b[1;33m=\u001b[0m \u001b[0mself\u001b[0m\u001b[1;33m.\u001b[0m\u001b[0m_y\u001b[0m\u001b[1;33m.\u001b[0m\u001b[0mravel\u001b[0m\u001b[1;33m(\u001b[0m\u001b[1;33m)\u001b[0m\u001b[1;33m\u001b[0m\u001b[1;33m\u001b[0m\u001b[0m\n\u001b[0;32m    915\u001b[0m \u001b[1;33m\u001b[0m\u001b[0m\n\u001b[1;32m--> 916\u001b[1;33m         \u001b[1;32mreturn\u001b[0m \u001b[0mself\u001b[0m\u001b[1;33m.\u001b[0m\u001b[0m_fit\u001b[0m\u001b[1;33m(\u001b[0m\u001b[0mX\u001b[0m\u001b[1;33m)\u001b[0m\u001b[1;33m\u001b[0m\u001b[1;33m\u001b[0m\u001b[0m\n\u001b[0m\u001b[0;32m    917\u001b[0m \u001b[1;33m\u001b[0m\u001b[0m\n\u001b[0;32m    918\u001b[0m \u001b[1;33m\u001b[0m\u001b[0m\n",
      "\u001b[1;32mc:\\users\\maria\\lib\\site-packages\\sklearn\\neighbors\\base.py\u001b[0m in \u001b[0;36m_fit\u001b[1;34m(self, X)\u001b[0m\n\u001b[0;32m    252\u001b[0m             self._tree = BallTree(X, self.leaf_size,\n\u001b[0;32m    253\u001b[0m                                   \u001b[0mmetric\u001b[0m\u001b[1;33m=\u001b[0m\u001b[0mself\u001b[0m\u001b[1;33m.\u001b[0m\u001b[0meffective_metric_\u001b[0m\u001b[1;33m,\u001b[0m\u001b[1;33m\u001b[0m\u001b[1;33m\u001b[0m\u001b[0m\n\u001b[1;32m--> 254\u001b[1;33m                                   **self.effective_metric_params_)\n\u001b[0m\u001b[0;32m    255\u001b[0m         \u001b[1;32melif\u001b[0m \u001b[0mself\u001b[0m\u001b[1;33m.\u001b[0m\u001b[0m_fit_method\u001b[0m \u001b[1;33m==\u001b[0m \u001b[1;34m'kd_tree'\u001b[0m\u001b[1;33m:\u001b[0m\u001b[1;33m\u001b[0m\u001b[1;33m\u001b[0m\u001b[0m\n\u001b[0;32m    256\u001b[0m             self._tree = KDTree(X, self.leaf_size,\n",
      "\u001b[1;32msklearn\\neighbors\\binary_tree.pxi\u001b[0m in \u001b[0;36msklearn.neighbors.ball_tree.BinaryTree.__init__\u001b[1;34m()\u001b[0m\n",
      "\u001b[1;32msklearn\\neighbors\\binary_tree.pxi\u001b[0m in \u001b[0;36msklearn.neighbors.ball_tree.BinaryTree._recursive_build\u001b[1;34m()\u001b[0m\n",
      "\u001b[1;32msklearn\\neighbors\\ball_tree.pyx\u001b[0m in \u001b[0;36msklearn.neighbors.ball_tree.init_node\u001b[1;34m()\u001b[0m\n",
      "\u001b[1;32msklearn\\neighbors\\binary_tree.pxi\u001b[0m in \u001b[0;36msklearn.neighbors.ball_tree.BinaryTree.rdist\u001b[1;34m()\u001b[0m\n",
      "\u001b[1;32msklearn\\neighbors\\dist_metrics.pyx\u001b[0m in \u001b[0;36msklearn.neighbors.dist_metrics.DistanceMetric.rdist\u001b[1;34m()\u001b[0m\n",
      "\u001b[1;32msklearn\\neighbors\\dist_metrics.pyx\u001b[0m in \u001b[0;36msklearn.neighbors.dist_metrics.PyFuncDistance.dist\u001b[1;34m()\u001b[0m\n",
      "\u001b[1;32msklearn\\neighbors\\dist_metrics.pyx\u001b[0m in \u001b[0;36msklearn.neighbors.dist_metrics.PyFuncDistance._dist\u001b[1;34m()\u001b[0m\n",
      "\u001b[1;32m<ipython-input-4-fcfa2865ced8>\u001b[0m in \u001b[0;36mfunc\u001b[1;34m(x1, x2)\u001b[0m\n\u001b[0;32m     52\u001b[0m             \u001b[0mprint\u001b[0m\u001b[1;33m(\u001b[0m\u001b[1;34m\"X1:\"\u001b[0m\u001b[1;33m,\u001b[0m \u001b[0mx1\u001b[0m\u001b[1;33m.\u001b[0m\u001b[0mshape\u001b[0m\u001b[1;33m,\u001b[0m \u001b[0mtype\u001b[0m\u001b[1;33m(\u001b[0m\u001b[0mx1\u001b[0m\u001b[1;33m)\u001b[0m\u001b[1;33m)\u001b[0m\u001b[1;33m\u001b[0m\u001b[1;33m\u001b[0m\u001b[0m\n\u001b[0;32m     53\u001b[0m             \u001b[0mprint\u001b[0m\u001b[1;33m(\u001b[0m\u001b[1;34m\"X2:\"\u001b[0m\u001b[1;33m,\u001b[0m \u001b[0mx1\u001b[0m\u001b[1;33m.\u001b[0m\u001b[0mshape\u001b[0m\u001b[1;33m,\u001b[0m \u001b[0mtype\u001b[0m\u001b[1;33m(\u001b[0m\u001b[0mx2\u001b[0m\u001b[1;33m)\u001b[0m\u001b[1;33m)\u001b[0m\u001b[1;33m\u001b[0m\u001b[1;33m\u001b[0m\u001b[0m\n\u001b[1;32m---> 54\u001b[1;33m             \u001b[0mdist\u001b[0m \u001b[1;33m=\u001b[0m \u001b[0mcv2\u001b[0m\u001b[1;33m.\u001b[0m\u001b[0mcompareHist\u001b[0m\u001b[1;33m(\u001b[0m\u001b[0mx1\u001b[0m\u001b[1;33m,\u001b[0m \u001b[0mx2\u001b[0m\u001b[1;33m,\u001b[0m \u001b[0mcv2distances\u001b[0m\u001b[1;33m[\u001b[0m\u001b[0mname\u001b[0m\u001b[1;33m]\u001b[0m\u001b[1;33m)\u001b[0m\u001b[1;33m\u001b[0m\u001b[1;33m\u001b[0m\u001b[0m\n\u001b[0m\u001b[0;32m     55\u001b[0m             \u001b[0mprint\u001b[0m\u001b[1;33m(\u001b[0m\u001b[0mdist\u001b[0m\u001b[1;33m)\u001b[0m\u001b[1;33m\u001b[0m\u001b[1;33m\u001b[0m\u001b[0m\n\u001b[0;32m     56\u001b[0m             \u001b[1;32mreturn\u001b[0m \u001b[0mdist\u001b[0m\u001b[1;33m\u001b[0m\u001b[1;33m\u001b[0m\u001b[0m\n",
      "\u001b[1;31merror\u001b[0m: OpenCV(3.4.2) C:\\projects\\opencv-python\\opencv\\modules\\imgproc\\src\\histogram.cpp:1935: error: (-215:Assertion failed) H1.type() == H2.type() && H1.depth() == 5 in function 'cv::compareHist'\n"
     ],
     "output_type": "error"
    }
   ],
   "source": [
    "# We build a k-nn classifier and train it with the train descriptors\n",
    "names_proc = []\n",
    "accuracies_proc = []\n",
    "times_proc = []\n",
    "errors_proc = []\n",
    "for knn_metric in dist_name_list:\n",
    "    #printmd(\"### \"+knn_metric)\n",
    "    names_proc.append(knn_metric)\n",
    "    #try:\n",
    "    KNN_METRIC = get_dist_func(knn_metric)\n",
    "    knn = KNeighborsClassifier(n_neighbors=n_neighbors,n_jobs=-1,metric=KNN_METRIC)\n",
    "    knn.fit(visual_words, train_labels) \n",
    "\n",
    "    accuracy = 100*knn.score(visual_words_test, test_labels)\n",
    "    #print(accuracy)\n",
    "    #print (\"Time since first block was executed:\", time.clock() - start)\n",
    "    accuracies_proc.append(accuracy)\n",
    "    test_predict_labels = knn.predict(visual_words_test)\n",
    "    labels_names = list(set(test_labels))\n",
    "\n",
    "    conf_mat_list.append(confusion_matrix( test_labels, test_predict_labels, labels=labels_names))\n",
    "    #except Exception as e:\n",
    "#        accuracies_proc.append(\"E\")\n",
    "#        errors_proc.append((knn_metric, e))\n",
    "    times_proc.append(time.clock() - start)\n",
    "    print_res(names_proc, accuracies_proc, times_proc)\n",
    "printmd(\"### Errors\")\n",
    "for name, error in errors_proc:\n",
    "    printmd(\"#### \"+name)\n",
    "    printmd('<span style=\"color:red\"> **Error:** </span>'+str(error))"
   ]
  },
  {
   "cell_type": "code",
   "execution_count": 14,
   "metadata": {},
   "outputs": [
    {
     "name": "stdout",
     "output_type": "stream",
     "text": [
      "X1: (128,) <class 'numpy.ndarray'>\n",
      "X2: (128,) <class 'numpy.ndarray'>\n",
      "0.6208488144261152\n"
     ]
    }
   ],
   "source": [
    "res = get_dist_func(\"bhatt\")(visual_words[1],visual_words_test[1])"
   ]
  },
  {
   "cell_type": "code",
   "execution_count": 15,
   "metadata": {},
   "outputs": [
    {
     "data": {
      "text/plain": [
       "dtype('float32')"
      ]
     },
     "execution_count": 15,
     "metadata": {},
     "output_type": "execute_result"
    }
   ],
   "source": [
    "visual_words[1].dtype"
   ]
  },
  {
   "cell_type": "markdown",
   "metadata": {
    "colab_type": "text",
    "id": "r2ZZWai-HMEN"
   },
   "source": [
    "### Show Confusion Matrix"
   ]
  },
  {
   "cell_type": "code",
   "execution_count": 16,
   "metadata": {},
   "outputs": [
    {
     "data": {
      "text/markdown": [
       "### braycurtis"
      ],
      "text/plain": [
       "<IPython.core.display.Markdown object>"
      ]
     },
     "metadata": {},
     "output_type": "display_data"
    },
    {
     "data": {
      "image/png": "[encoded data removed]",
      "text/plain": [
       "<Figure size 432x288 with 1 Axes>"
      ]
     },
     "metadata": {
      "needs_background": "light"
     },
     "output_type": "display_data"
    }
   ],
   "source": [
    "show_matrix = \"bray\"\n",
    "for i, dist_name in enumerate(dist_name_list):\n",
    "    if(show_matrix[:4] == dist_name[:4]):\n",
    "        printmd(\"### \"+dist_name)\n",
    "        conf = conf_mat_list[i]\n",
    "        fig, axs = plt.subplots(1,1)\n",
    "        axs.axis('tight')\n",
    "        axs.axis('off')\n",
    "        the_table = axs.table(cellText=conf, rowLabels=labels_names, colLabels=labels_names, loc='center')\n",
    "        the_table.auto_set_font_size(False)\n",
    "        the_table.set_fontsize(12)\n",
    "        the_table.scale(2, 1)\n",
    "        fig.tight_layout()\n",
    "        plt.show()\n"
   ]
  },
  {
   "cell_type": "code",
   "execution_count": null,
   "metadata": {
    "colab": {},
    "colab_type": "code",
    "id": "kXAxeKWPHMEQ"
   },
   "outputs": [],
   "source": [
    "\n",
    "\n"
   ]
  },
  {
   "cell_type": "code",
   "execution_count": null,
   "metadata": {
    "colab": {},
    "colab_type": "code",
    "id": "tgMvEUWZHMEY"
   },
   "outputs": [],
   "source": []
  }
 ],
 "metadata": {
  "colab": {
   "name": "BagofVisualWords.ipynb",
   "provenance": [],
   "toc_visible": true,
   "version": "0.3.2"
  },
  "kernelspec": {
   "display_name": "Python 3",
   "language": "python",
   "name": "python3"
  },
  "language_info": {
   "codemirror_mode": {
    "name": "ipython",
    "version": 3
   },
   "file_extension": ".py",
   "mimetype": "text/x-python",
   "name": "python",
   "nbconvert_exporter": "python",
   "pygments_lexer": "ipython3",
   "version": "3.6.7"
  }
 },
 "nbformat": 4,
 "nbformat_minor": 1
}
